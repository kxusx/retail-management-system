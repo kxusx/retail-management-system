{
 "cells": [
  {
   "cell_type": "code",
   "execution_count": 9,
   "metadata": {},
   "outputs": [],
   "source": [
    "import csv as csv\n",
    "import pandas as pd\n",
    "import numpy as np\n",
    "import random"
   ]
  },
  {
   "cell_type": "code",
   "execution_count": 14,
   "metadata": {},
   "outputs": [],
   "source": [
    "# create a new relation with customer id(Each order has a unique customer_id) and customer unique id\n",
    "df = pd.read_csv('data/customers_dataset.csv')\n",
    "customer_ids_df = df[['customer_id', 'customer_unique_id']]\n",
    "customer_ids_df.to_csv('data/order_customer_ids.csv', index=False)"
   ]
  },
  {
   "cell_type": "code",
   "execution_count": 15,
   "metadata": {},
   "outputs": [],
   "source": [
    "# add customer_unique_id to orders_dataset.csv\n",
    "orders_df = pd.read_csv('data/orders_dataset.csv')\n",
    "customer_ids_df = pd.read_csv('data/order_customer_ids.csv')\n",
    "\n",
    "# Merge the datasets on customer_id to add customer_unique_id\n",
    "merged_df = orders_df.merge(\n",
    "    customer_ids_df[['customer_id', 'customer_unique_id']],\n",
    "    on='customer_id',\n",
    "    how='left'\n",
    ")\n",
    "\n",
    "# Save the result back to orders_dataset.csv\n",
    "merged_df.to_csv('data/orders_dataset.csv', index=False)"
   ]
  },
  {
   "cell_type": "code",
   "execution_count": 16,
   "metadata": {},
   "outputs": [],
   "source": [
    "# Drop customer_id from orders dataset\n",
    "orders_df = pd.read_csv('data/orders_dataset.csv')\n",
    "orders_df = orders_df.drop(columns=['customer_id'])\n",
    "orders_df.to_csv('data/orders_dataset.csv', index=False)\n",
    "\n",
    "# Drop customer_id from customers dataset\n",
    "customers_df = pd.read_csv('data/customers_dataset.csv')\n",
    "customers_df = customers_df.drop(columns=['customer_id'])\n",
    "customers_df.to_csv('data/customers_dataset.csv', index=False)"
   ]
  },
  {
   "cell_type": "code",
   "execution_count": 18,
   "metadata": {},
   "outputs": [],
   "source": [
    "# Read the customers dataset\n",
    "df = pd.read_csv('data/customers_dataset.csv')\n",
    "\n",
    "# Drop duplicates based on customer_unique_id column only\n",
    "df_unique = df.drop_duplicates(subset=['customer_unique_id'])\n",
    "\n",
    "# Save back to the same file\n",
    "df_unique.to_csv('data/customers_dataset.csv', index=False)"
   ]
  },
  {
   "cell_type": "code",
   "execution_count": 19,
   "metadata": {},
   "outputs": [
    {
     "name": "stderr",
     "output_type": "stream",
     "text": [
      "/var/folders/3v/djh89n8d1sg02jc6wtj1dyx40000gn/T/ipykernel_95944/1328632640.py:2: DtypeWarning: Columns (0) have mixed types. Specify dtype option on import or set low_memory=False.\n",
      "  df = pd.read_csv('data/geolocation_dataset.csv')\n"
     ]
    }
   ],
   "source": [
    "\n",
    "# Read the geolocation dataset\n",
    "df = pd.read_csv('data/geolocation_dataset.csv')\n",
    "\n",
    "# Drop duplicates based on geolocation_zip_code column only\n",
    "df_unique = df.drop_duplicates(subset=['geolocation_zip_code'])\n",
    "\n",
    "# Save back to the same file\n",
    "df_unique.to_csv('data/geolocation_dataset.csv', index=False)"
   ]
  },
  {
   "cell_type": "code",
   "execution_count": null,
   "metadata": {},
   "outputs": [],
   "source": [
    "# Randomly assign a seller_id to each product\n",
    "products = pd.read_csv(\"data/products_dataset.csv\")\n",
    "sellers = pd.read_csv(\"data/sellers_dataset.csv\")\n",
    "\n",
    "products[\"seller_id\"] = [random.choice(sellers[\"seller_id\"].tolist()) for _ in range(len(products))]\n",
    "products.to_csv(\"products_with_seller.csv\", index=False)"
   ]
  },
  {
   "cell_type": "code",
   "execution_count": 13,
   "metadata": {},
   "outputs": [],
   "source": [
    "# keep only unique rows in customers.csv\n",
    "df = pd.read_csv('data/customers_dataset.csv')\n",
    "\n",
    "# Drop duplicate rows (keep first occurrence)\n",
    "df_unique = df.drop_duplicates()\n",
    "\n",
    "# Save back to the same file\n",
    "df_unique.to_csv('data/customers_dataset.csv', index=False)"
   ]
  },
  {
   "cell_type": "code",
   "execution_count": 6,
   "metadata": {},
   "outputs": [],
   "source": [
    "# remove unnecessary columns in products.csv\n",
    "df = pd.read_csv('data/products.csv')\n",
    "\n",
    "# Drop the specified columns\n",
    "columns_to_drop = ['product_name_lenght', 'product_description_lenght', 'product_photos_qty']\n",
    "df = df.drop(columns=columns_to_drop)\n",
    "\n",
    "# Save back to the same file\n",
    "df.to_csv('data/products.csv', index=False)"
   ]
  },
  {
   "cell_type": "code",
   "execution_count": 7,
   "metadata": {},
   "outputs": [],
   "source": [
    "# delete order_delivered_customer_date column in orders.csv\n",
    "df = pd.read_csv('data/orders_dataset.csv')\n",
    "df = df.drop(columns=['order_delivered_customer_date'])\n",
    "df.to_csv('data/orders_dataset.csv', index=False)"
   ]
  },
  {
   "cell_type": "code",
   "execution_count": null,
   "metadata": {},
   "outputs": [],
   "source": [
    "# replace order_item_id with random unique ids\n",
    "df = pd.read_csv('data/order_items_dataset.csv')\n",
    "n_rows = len(df)\n",
    "unique_ids = np.random.permutation(range(1, n_rows + 1))\n",
    "\n",
    "df['order_item_id'] = unique_ids\n",
    "df.to_csv('data/order_items_dataset.csv', index=False)"
   ]
  },
  {
   "cell_type": "code",
   "execution_count": null,
   "metadata": {},
   "outputs": [],
   "source": [
    "# Drop the customer_city and customer_state columns from customers dataset\n",
    "df = pd.read_csv('data/customers_dataset.csv')\n",
    "df = df.drop(columns=['customer_city', 'customer_state'])\n",
    "df.to_csv('data/customers_dataset.csv', index=False)"
   ]
  },
  {
   "cell_type": "code",
   "execution_count": 21,
   "metadata": {},
   "outputs": [],
   "source": [
    "# # Drop the city and state columns from sellers dataset\n",
    "df = pd.read_csv('data/sellers_dataset.csv')\n",
    "df = df.drop(columns=['city', 'state'])\n",
    "df.to_csv('data/sellers_dataset.csv', index=False)"
   ]
  },
  {
   "cell_type": "code",
   "execution_count": null,
   "metadata": {},
   "outputs": [],
   "source": []
  }
 ],
 "metadata": {
  "kernelspec": {
   "display_name": "base",
   "language": "python",
   "name": "python3"
  },
  "language_info": {
   "codemirror_mode": {
    "name": "ipython",
    "version": 3
   },
   "file_extension": ".py",
   "mimetype": "text/x-python",
   "name": "python",
   "nbconvert_exporter": "python",
   "pygments_lexer": "ipython3",
   "version": "3.10.12"
  }
 },
 "nbformat": 4,
 "nbformat_minor": 2
}
